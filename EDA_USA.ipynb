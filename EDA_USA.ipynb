{
 "cells": [
  {
   "cell_type": "code",
   "execution_count": 1,
   "metadata": {},
   "outputs": [],
   "source": [
    "import pandas as pd\n",
    "import pickle\n",
    "import matplotlib.pyplot as plt\n",
    "import numpy as np\n",
    "import seaborn as sns\n",
    "from sklearn.feature_extraction.text import TfidfVectorizer"
   ]
  },
  {
   "cell_type": "code",
   "execution_count": 2,
   "metadata": {},
   "outputs": [
    {
     "data": {
      "text/html": [
       "<div>\n",
       "<style scoped>\n",
       "    .dataframe tbody tr th:only-of-type {\n",
       "        vertical-align: middle;\n",
       "    }\n",
       "\n",
       "    .dataframe tbody tr th {\n",
       "        vertical-align: top;\n",
       "    }\n",
       "\n",
       "    .dataframe thead th {\n",
       "        text-align: right;\n",
       "    }\n",
       "</style>\n",
       "<table border=\"1\" class=\"dataframe\">\n",
       "  <thead>\n",
       "    <tr style=\"text-align: right;\">\n",
       "      <th></th>\n",
       "      <th>trending_date</th>\n",
       "      <th>channel_title</th>\n",
       "      <th>category_id</th>\n",
       "      <th>publish_time</th>\n",
       "      <th>tags</th>\n",
       "      <th>views</th>\n",
       "      <th>likes</th>\n",
       "      <th>dislikes</th>\n",
       "      <th>comment_count</th>\n",
       "      <th>comments_disabled</th>\n",
       "      <th>ratings_disabled</th>\n",
       "      <th>video_error_or_removed</th>\n",
       "      <th>publish_date</th>\n",
       "      <th>token_title</th>\n",
       "      <th>token_description</th>\n",
       "    </tr>\n",
       "  </thead>\n",
       "  <tbody>\n",
       "    <tr>\n",
       "      <th>0</th>\n",
       "      <td>2017-11-14</td>\n",
       "      <td>CaseyNeistat</td>\n",
       "      <td>22</td>\n",
       "      <td>17:13:01</td>\n",
       "      <td>[SHANtell martin]</td>\n",
       "      <td>748374</td>\n",
       "      <td>57527</td>\n",
       "      <td>2966</td>\n",
       "      <td>15954</td>\n",
       "      <td>False</td>\n",
       "      <td>False</td>\n",
       "      <td>False</td>\n",
       "      <td>2017-11-13</td>\n",
       "      <td>[we, want, to, talk, about, our, marriage]</td>\n",
       "      <td>[shantell, 's, channel, -, -, this, video, in,...</td>\n",
       "    </tr>\n",
       "    <tr>\n",
       "      <th>1</th>\n",
       "      <td>2017-11-14</td>\n",
       "      <td>LastWeekTonight</td>\n",
       "      <td>24</td>\n",
       "      <td>07:30:00</td>\n",
       "      <td>[last week tonight trump presidency, last week...</td>\n",
       "      <td>2418783</td>\n",
       "      <td>97185</td>\n",
       "      <td>6146</td>\n",
       "      <td>12703</td>\n",
       "      <td>False</td>\n",
       "      <td>False</td>\n",
       "      <td>False</td>\n",
       "      <td>2017-11-13</td>\n",
       "      <td>[the, trump, presidency, last, week, tonight, ...</td>\n",
       "      <td>[one, year, after, the, presidential, election...</td>\n",
       "    </tr>\n",
       "  </tbody>\n",
       "</table>\n",
       "</div>"
      ],
      "text/plain": [
       "  trending_date    channel_title category_id publish_time  \\\n",
       "0    2017-11-14     CaseyNeistat          22     17:13:01   \n",
       "1    2017-11-14  LastWeekTonight          24     07:30:00   \n",
       "\n",
       "                                                tags    views  likes  \\\n",
       "0                                  [SHANtell martin]   748374  57527   \n",
       "1  [last week tonight trump presidency, last week...  2418783  97185   \n",
       "\n",
       "   dislikes  comment_count  comments_disabled  ratings_disabled  \\\n",
       "0      2966          15954              False             False   \n",
       "1      6146          12703              False             False   \n",
       "\n",
       "   video_error_or_removed publish_date  \\\n",
       "0                   False   2017-11-13   \n",
       "1                   False   2017-11-13   \n",
       "\n",
       "                                         token_title  \\\n",
       "0         [we, want, to, talk, about, our, marriage]   \n",
       "1  [the, trump, presidency, last, week, tonight, ...   \n",
       "\n",
       "                                   token_description  \n",
       "0  [shantell, 's, channel, -, -, this, video, in,...  \n",
       "1  [one, year, after, the, presidential, election...  "
      ]
     },
     "execution_count": 2,
     "metadata": {},
     "output_type": "execute_result"
    }
   ],
   "source": [
    "usdata = pd.read_pickle(\"clean_us.pkl\")\n",
    "usdata.head(n=2)"
   ]
  },
  {
   "cell_type": "code",
   "execution_count": 3,
   "metadata": {},
   "outputs": [
    {
     "data": {
      "text/plain": [
       "Index(['trending_date', 'channel_title', 'category_id', 'publish_time', 'tags',\n",
       "       'views', 'likes', 'dislikes', 'comment_count', 'comments_disabled',\n",
       "       'ratings_disabled', 'video_error_or_removed', 'publish_date',\n",
       "       'token_title', 'token_description'],\n",
       "      dtype='object')"
      ]
     },
     "execution_count": 3,
     "metadata": {},
     "output_type": "execute_result"
    }
   ],
   "source": [
    "usdata.columns"
   ]
  },
  {
   "cell_type": "code",
   "execution_count": 4,
   "metadata": {},
   "outputs": [
    {
     "data": {
      "text/plain": [
       "(7139, 15)"
      ]
     },
     "execution_count": 4,
     "metadata": {},
     "output_type": "execute_result"
    }
   ],
   "source": [
    "usdata.shape"
   ]
  },
  {
   "cell_type": "code",
   "execution_count": 5,
   "metadata": {},
   "outputs": [
    {
     "name": "stdout",
     "output_type": "stream",
     "text": [
      "{1: 'Film & Animation', 2: 'Autos & Vehicles', 10: 'Music', 15: 'Pets & Animals', 17: 'Sports', 18: 'Short Movies', 19: 'Travel & Events', 20: 'Gaming', 21: 'Videoblogging', 22: 'People & Blogs', 23: 'Comedy', 24: 'Entertainment', 25: 'News & Politics', 26: 'Howto & Style', 27: 'Education', 28: 'Science & Technology', 29: 'Nonprofits & Activism', 30: 'Movies', 31: 'Anime/Animation', 32: 'Action/Adventure', 33: 'Classics', 34: 'Comedy', 35: 'Documentary', 36: 'Drama', 37: 'Family', 38: 'Foreign', 39: 'Horror', 40: 'Sci-Fi/Fantasy', 41: 'Thriller', 42: 'Shorts', 43: 'Shows', 44: 'Trailers'}\n"
     ]
    }
   ],
   "source": [
    "#load categorical data\n",
    "with open (\"US_categories.pickle\",\"rb\") as f:\n",
    "    categories = pickle.load(f)\n",
    "print(categories)"
   ]
  },
  {
   "cell_type": "code",
   "execution_count": 6,
   "metadata": {},
   "outputs": [],
   "source": [
    "usdata[\"category_name\"] = usdata.category_id.map(categories)"
   ]
  },
  {
   "cell_type": "code",
   "execution_count": 7,
   "metadata": {},
   "outputs": [
    {
     "data": {
      "text/html": [
       "<div>\n",
       "<style scoped>\n",
       "    .dataframe tbody tr th:only-of-type {\n",
       "        vertical-align: middle;\n",
       "    }\n",
       "\n",
       "    .dataframe tbody tr th {\n",
       "        vertical-align: top;\n",
       "    }\n",
       "\n",
       "    .dataframe thead th {\n",
       "        text-align: right;\n",
       "    }\n",
       "</style>\n",
       "<table border=\"1\" class=\"dataframe\">\n",
       "  <thead>\n",
       "    <tr style=\"text-align: right;\">\n",
       "      <th></th>\n",
       "      <th>trending_date</th>\n",
       "      <th>channel_title</th>\n",
       "      <th>category_id</th>\n",
       "      <th>publish_time</th>\n",
       "      <th>tags</th>\n",
       "      <th>views</th>\n",
       "      <th>likes</th>\n",
       "      <th>dislikes</th>\n",
       "      <th>comment_count</th>\n",
       "      <th>comments_disabled</th>\n",
       "      <th>ratings_disabled</th>\n",
       "      <th>video_error_or_removed</th>\n",
       "      <th>publish_date</th>\n",
       "      <th>token_title</th>\n",
       "      <th>token_description</th>\n",
       "      <th>category_name</th>\n",
       "    </tr>\n",
       "  </thead>\n",
       "  <tbody>\n",
       "    <tr>\n",
       "      <th>0</th>\n",
       "      <td>2017-11-14</td>\n",
       "      <td>CaseyNeistat</td>\n",
       "      <td>22</td>\n",
       "      <td>17:13:01</td>\n",
       "      <td>[SHANtell martin]</td>\n",
       "      <td>748374</td>\n",
       "      <td>57527</td>\n",
       "      <td>2966</td>\n",
       "      <td>15954</td>\n",
       "      <td>False</td>\n",
       "      <td>False</td>\n",
       "      <td>False</td>\n",
       "      <td>2017-11-13</td>\n",
       "      <td>[we, want, to, talk, about, our, marriage]</td>\n",
       "      <td>[shantell, 's, channel, -, -, this, video, in,...</td>\n",
       "      <td>People &amp; Blogs</td>\n",
       "    </tr>\n",
       "    <tr>\n",
       "      <th>1</th>\n",
       "      <td>2017-11-14</td>\n",
       "      <td>LastWeekTonight</td>\n",
       "      <td>24</td>\n",
       "      <td>07:30:00</td>\n",
       "      <td>[last week tonight trump presidency, last week...</td>\n",
       "      <td>2418783</td>\n",
       "      <td>97185</td>\n",
       "      <td>6146</td>\n",
       "      <td>12703</td>\n",
       "      <td>False</td>\n",
       "      <td>False</td>\n",
       "      <td>False</td>\n",
       "      <td>2017-11-13</td>\n",
       "      <td>[the, trump, presidency, last, week, tonight, ...</td>\n",
       "      <td>[one, year, after, the, presidential, election...</td>\n",
       "      <td>Entertainment</td>\n",
       "    </tr>\n",
       "  </tbody>\n",
       "</table>\n",
       "</div>"
      ],
      "text/plain": [
       "  trending_date    channel_title category_id publish_time  \\\n",
       "0    2017-11-14     CaseyNeistat          22     17:13:01   \n",
       "1    2017-11-14  LastWeekTonight          24     07:30:00   \n",
       "\n",
       "                                                tags    views  likes  \\\n",
       "0                                  [SHANtell martin]   748374  57527   \n",
       "1  [last week tonight trump presidency, last week...  2418783  97185   \n",
       "\n",
       "   dislikes  comment_count  comments_disabled  ratings_disabled  \\\n",
       "0      2966          15954              False             False   \n",
       "1      6146          12703              False             False   \n",
       "\n",
       "   video_error_or_removed publish_date  \\\n",
       "0                   False   2017-11-13   \n",
       "1                   False   2017-11-13   \n",
       "\n",
       "                                         token_title  \\\n",
       "0         [we, want, to, talk, about, our, marriage]   \n",
       "1  [the, trump, presidency, last, week, tonight, ...   \n",
       "\n",
       "                                   token_description   category_name  \n",
       "0  [shantell, 's, channel, -, -, this, video, in,...  People & Blogs  \n",
       "1  [one, year, after, the, presidential, election...   Entertainment  "
      ]
     },
     "execution_count": 7,
     "metadata": {},
     "output_type": "execute_result"
    }
   ],
   "source": [
    "usdata.head(n=2)"
   ]
  },
  {
   "cell_type": "markdown",
   "metadata": {},
   "source": [
    "### Exploratory data analysis "
   ]
  },
  {
   "cell_type": "code",
   "execution_count": 8,
   "metadata": {},
   "outputs": [
    {
     "data": {
      "text/plain": [
       "<matplotlib.axes._subplots.AxesSubplot at 0x1a19bc68d0>"
      ]
     },
     "execution_count": 8,
     "metadata": {},
     "output_type": "execute_result"
    },
    {
     "data": {
      "image/png": "[encoded data removed]",
      "text/plain": [
       "<matplotlib.figure.Figure at 0x1a1e1ed908>"
      ]
     },
     "metadata": {},
     "output_type": "display_data"
    }
   ],
   "source": [
    "sub = usdata[[\"views\", \"likes\", \"dislikes\", \"comment_count\"]]\n",
    "corr = sub.corr()\n",
    "cmap = sns.cm.rocket_r\n",
    "sns.heatmap(corr, \n",
    "        xticklabels=corr.columns,\n",
    "        yticklabels=corr.columns,\n",
    "           cmap=cmap,\n",
    "           annot=True)\n",
    "\n"
   ]
  },
  {
   "cell_type": "code",
   "execution_count": 9,
   "metadata": {},
   "outputs": [
    {
     "data": {
      "image/png": "[encoded data removed]",
      "text/plain": [
       "<matplotlib.figure.Figure at 0x1a25e500b8>"
      ]
     },
     "metadata": {},
     "output_type": "display_data"
    }
   ],
   "source": [
    "#plt.hist(usdata.trending_date)\n",
    "agg_reactions = usdata.groupby(\"trending_date\").agg({\"likes\":\"sum\", \"dislikes\":\"sum\"})\n",
    "likes_reactions = agg_reactions.sort_values(\"likes\",ascending=False).reset_index()[:10]\n",
    "dislikes_reactions = agg_reactions.sort_values(\"dislikes\",ascending=False).reset_index()[:10]\n",
    "\n",
    "#plt.plot(reactions[\"trending_date\"],reactions[\"likes\"])\n",
    "plt.figure(num=None, figsize=(16, 6))\n",
    "plt.subplot(1, 2, 1)\n",
    "sns.barplot(likes_reactions[\"trending_date\"].dt.date,y= likes_reactions[\"likes\"])\n",
    "plt.xticks(rotation=45)\n",
    "plt.title(\"Top 10 Number of likes vs trending date\")\n",
    "\n",
    "plt.subplot(1, 2, 2)\n",
    "sns.barplot(dislikes_reactions[\"trending_date\"].dt.date,y= dislikes_reactions[\"dislikes\"])\n",
    "plt.xticks(rotation=45)\n",
    "plt.title(\"Top 10 Number of dislikes vs trending date\")\n",
    "\n",
    "plt.show()"
   ]
  },
  {
   "cell_type": "code",
   "execution_count": 10,
   "metadata": {},
   "outputs": [
    {
     "data": {
      "image/png": "[encoded data removed]",
      "text/plain": [
       "<matplotlib.figure.Figure at 0x1a23db5240>"
      ]
     },
     "metadata": {},
     "output_type": "display_data"
    }
   ],
   "source": [
    "sns.barplot(usdata[\"category_name\"].unique(),usdata[\"category_name\"].value_counts())\n",
    "plt.xticks(rotation=90)\n",
    "plt.show()\n",
    "#The most common category is People & Blogs, followed by Entertainment, then Comedy which has a similar popularity\n",
    "#to science and Tech.\n"
   ]
  },
  {
   "cell_type": "markdown",
   "metadata": {},
   "source": [
    "#### What is the relationship between trending date and the time of publication?\n"
   ]
  },
  {
   "cell_type": "code",
   "execution_count": null,
   "metadata": {},
   "outputs": [],
   "source": [
    "xx = (usdata[\"trending_date\"] - usdata[\"publish_date\"]).astype('timedelta64[D]').value_counts().reset_index()\n",
    "xx.rename(index=str, columns={\"index\": \"Diff\", 0: \"count\"},inplace=True)\n",
    "plt.scatter(xx[\"Diff\"][:25], xx[\"count\"][:25])\n",
    "plt.xlabel(\"Difference between publication and trending dates\")\n",
    "plt.ylabel(\"Count\")\n",
    "plt.title(\"Count data of duration between publication and trending dates\")\n",
    "plt.show()\n",
    "#xx.head()"
   ]
  },
  {
   "cell_type": "raw",
   "metadata": {},
   "source": [
    "From the chart above, it is evident that the odds of a video trending are much higher in the first five days but it decreases exponentially after that period of time. The most common trend we observe here is that videos are more likely to trend within one day of publication than any other day. "
   ]
  },
  {
   "cell_type": "code",
   "execution_count": null,
   "metadata": {},
   "outputs": [],
   "source": [
    "grp_cats = usdata.groupby(\"category_id\")\n",
    "#(grp_cats[\"trending_date\"] - grp_cats[\"publish_date\"]).astype('timedelta64[D]').value_counts().reset_index()\n",
    "\n",
    "\n",
    "#finish grouping by category and look at the differences between publication and trending dates"
   ]
  },
  {
   "cell_type": "markdown",
   "metadata": {},
   "source": [
    "#### How similar are the various categories to each other?"
   ]
  },
  {
   "cell_type": "code",
   "execution_count": null,
   "metadata": {},
   "outputs": [],
   "source": [
    "mg_cat = usdata.groupby(\"category_id\").agg({\"tags\":\"sum\"}).reset_index()"
   ]
  },
  {
   "cell_type": "code",
   "execution_count": null,
   "metadata": {},
   "outputs": [],
   "source": [
    "#index category id\n",
    "ind_to_cat_id = {idx:cat for idx, cat in enumerate(usdata.category_id.unique())}\n",
    "cat_id_to_ind = {j:i for i,j in ind_to_cat_id.items()}"
   ]
  },
  {
   "cell_type": "code",
   "execution_count": null,
   "metadata": {},
   "outputs": [],
   "source": [
    "n_feats = 5000\n",
    "doc_by_vocab = np.empty([len(mg_cat), n_feats])\n",
    "\n",
    "def build_vectorizer(max_features, stop_words, max_df=0.8, min_df=10, norm='l2'):\n",
    "    \"\"\"Returns a TfidfVectorizer object with the above preprocessing properties.\n",
    "    \n",
    "    Params: {max_features: Integer,\n",
    "             max_df: Float,\n",
    "             min_df: Float,\n",
    "             norm: String,\n",
    "             stop_words: String}\n",
    "    Returns: TfidfVectorizer\n",
    "    \"\"\"\n",
    "    # YOUR CODE HERE\n",
    "    tfidfvec = TfidfVectorizer(max_features = max_features, stop_words = stop_words, \\\n",
    "                    max_df = max_df, min_df = min_df, norm=norm)\n",
    "    return tfidfvec\n",
    "\n",
    "tfidf_vec = build_vectorizer(n_feats, \"english\")\n",
    "doc_by_vocab = tfidf_vec.fit_transform([\", \".join(d) for d in mg_cat[\"tags\"]]).toarray()\n",
    "index_to_vocab = {i:v for i, v in enumerate(tfidf_vec.get_feature_names())}"
   ]
  },
  {
   "cell_type": "code",
   "execution_count": null,
   "metadata": {},
   "outputs": [],
   "source": [
    "def get_sim(cat1, cat2, input_doc_mat, cat_name_to_cat_id, cat_id_to_ind):\n",
    "    \"\"\"Returns a float giving the cosine similarity of \n",
    "       the two categories.\n",
    "    \n",
    "    Params: {mov1: String,\n",
    "             mov2: String,\n",
    "             input_doc_mat: Numpy Array,\n",
    "             movie_name_to_index: Dict}\n",
    "    Returns: Float (Cosine similarity of the two movie transcripts.)\n",
    "    \"\"\"\n",
    "    # YOUR CODE HERE\n",
    "    catid_1 = cat_name_to_cat_id[cat1]\n",
    "    catid_2 = cat_name_to_cat_id[cat2]\n",
    "\n",
    "    script_1 = input_doc_mat[cat_id_to_ind[catid_1],]\n",
    "    script_2 = input_doc_mat[cat_id_to_ind[catid_2],]\n",
    "    \n",
    "    val = np.dot(script_1,script_2.T)/(np.linalg.norm(script_1)*np.linalg.norm(script_2))\n",
    "        \n",
    "    return val\n"
   ]
  },
  {
   "cell_type": "code",
   "execution_count": null,
   "metadata": {
    "scrolled": false
   },
   "outputs": [],
   "source": [
    "cossim_cat = np.zeros(shape=(len(cat_name_to_cat_id),len(cat_name_to_cat_id)))\n",
    "\n",
    "for name1,i in cat_name_to_cat_id.items():\n",
    "    for name2,j in cat_name_to_cat_id.items():\n",
    "        row = cat_id_to_ind[i]\n",
    "        col = cat_id_to_ind[j]\n",
    "        cossim_cat[row,col] = get_sim(name1, name2, doc_by_vocab, cat_name_to_cat_id, cat_id_to_ind)\n",
    "\n",
    "plt.figure(num=None, figsize=(8, 6), dpi=80, facecolor='w', edgecolor='k')\n",
    "plt.imshow(cossim_cat, interpolation='none',\n",
    "           cmap=plt.cm.Greys)\n",
    "plt.colorbar()\n",
    "plt.title(\"Cosine Similarity between the video categories\")\n",
    "plt.xticks(range(len(cat_name_to_cat_id)), cat_name_to_cat_id.keys(), rotation=90)\n",
    "plt.yticks(range(len(cat_name_to_cat_id)), cat_name_to_cat_id.keys())\n",
    "plt.show()"
   ]
  },
  {
   "cell_type": "code",
   "execution_count": null,
   "metadata": {
    "scrolled": true
   },
   "outputs": [],
   "source": [
    "for i in range(cossim_cat.shape[0]):\n",
    "    print(cat_id_to_cat_name[ind_to_cat_id[i]])\n",
    "    print(\"---------------------------\")\n",
    "    top3_idx = np.argsort(cossim_cat[i])[::-1][1:4]\n",
    "    top3_num = np.sort(cossim_cat[i])[::-1][1:4]\n",
    "    for j,num in zip(top3_idx,top3_num):\n",
    "        print(cat_id_to_cat_name[ind_to_cat_id[j]] + \" - \" + str(num))\n",
    "    print(\" \")"
   ]
  },
  {
   "cell_type": "raw",
   "metadata": {},
   "source": [
    "The most similar categories in descending order are:\n",
    "1. Gaming and Shows\n",
    "2. Pets and Animals and Education\n",
    "3. Music and Education\n",
    "4. Music and Autos & Vehicles"
   ]
  },
  {
   "cell_type": "markdown",
   "metadata": {},
   "source": [
    "#### What is the relationship between number of comments and up/down-votes?"
   ]
  },
  {
   "cell_type": "raw",
   "metadata": {},
   "source": [
    "1. Likes vs dislikes\n",
    "2. Likes vs comments\n",
    "3. views vs comments vs likes/dislikes\n"
   ]
  },
  {
   "cell_type": "code",
   "execution_count": null,
   "metadata": {},
   "outputs": [],
   "source": [
    "\n",
    "dis_like = usdata.groupby(\"category_name\").agg({\"likes\":\"sum\", \"dislikes\":\"sum\",\"views\":\"sum\",\\\n",
    "                                              \"comment_count\": \"sum\"}).reset_index()\n",
    "fig, axes = plt.subplots(nrows=1, ncols=3, figsize=(18, 6))\n",
    "\n",
    "\n",
    "plt.subplot(1, 3, 1)\n",
    "sns.barplot(dis_like[\"category_name\"],dis_like[\"likes\"]/dis_like[\"views\"])\n",
    "plt.ylabel(\"Ratio of likes to views\")\n",
    "plt.xticks(rotation=90)\n",
    "\n",
    "plt.subplot(1, 3, 2)\n",
    "sns.barplot(dis_like[\"category_name\"],dis_like[\"dislikes\"]/dis_like[\"views\"])\n",
    "plt.ylabel(\"Ratio of dislikes to views\")\n",
    "plt.xticks(rotation=90)\n",
    "\n",
    "plt.subplot(1, 3, 3)\n",
    "sns.barplot(dis_like[\"category_name\"],dis_like[\"comment_count\"]/dis_like[\"views\"])\n",
    "plt.ylabel(\"Ratio of comments to views\")\n",
    "plt.xticks(rotation=90)\n",
    "\n",
    "plt.show()\n"
   ]
  },
  {
   "cell_type": "markdown",
   "metadata": {},
   "source": [
    "In general, videos across all categories are more likely to be liked than disliked. It is also evident that the number of comments have a greater ratio than the dislikes. \n",
    "\n",
    "Nonprofts and Activism have the highest ratios among likes, dislikes and comments. People who view videos related to nonprofits and activism are more likely to have a reaction due to the nature of content that is generally portrayed in the video. "
   ]
  },
  {
   "cell_type": "markdown",
   "metadata": {},
   "source": [
    "#### Relationship between length of title and popularity "
   ]
  },
  {
   "cell_type": "code",
   "execution_count": null,
   "metadata": {},
   "outputs": [],
   "source": [
    "title_len = usdata[\"token_title\"].str.len()\n",
    "\n",
    "udata = pd.DataFrame([title_len,usdata[\"likes\"]]).transpose()\n",
    "t_len = udata.sort_values(\"likes\",ascending=False).reset_index()[:100]\n",
    "plt.scatter(x=t_len[\"token_title\"], y=t_len[\"likes\"])\n",
    "plt.xlabel(\"length of title\")\n",
    "plt.ylabel(\"number of likes\")\n",
    "plt.show()\n"
   ]
  },
  {
   "cell_type": "markdown",
   "metadata": {},
   "source": [
    "There is no significant evidence of a relationship between length of the title and popularity"
   ]
  },
  {
   "cell_type": "markdown",
   "metadata": {},
   "source": [
    "#### Relationship between number of words in description and popularity"
   ]
  },
  {
   "cell_type": "code",
   "execution_count": null,
   "metadata": {},
   "outputs": [],
   "source": [
    "des_len = usdata[\"token_description\"].str.len()\n",
    "\n",
    "udata = pd.DataFrame([des_len,usdata[\"likes\"]]).transpose()\n",
    "d_len = udata.sort_values(\"likes\",ascending=False).reset_index()[:200]\n",
    "plt.scatter(x=d_len[\"token_description\"], y=d_len[\"likes\"])\n",
    "plt.xlabel(\"number of words in description\")\n",
    "plt.ylabel(\"number of likes\")\n",
    "plt.show()\n"
   ]
  },
  {
   "cell_type": "markdown",
   "metadata": {},
   "source": [
    "There is no significant evidence to conclude that descriptions lengths tell us how popular a video will be."
   ]
  },
  {
   "cell_type": "code",
   "execution_count": null,
   "metadata": {},
   "outputs": [],
   "source": []
  }
 ],
 "metadata": {
  "kernelspec": {
   "display_name": "Python 3",
   "language": "python",
   "name": "python3"
  },
  "language_info": {
   "codemirror_mode": {
    "name": "ipython",
    "version": 3
   },
   "file_extension": ".py",
   "mimetype": "text/x-python",
   "name": "python",
   "nbconvert_exporter": "python",
   "pygments_lexer": "ipython3",
   "version": "3.6.4"
  }
 },
 "nbformat": 4,
 "nbformat_minor": 2
}
