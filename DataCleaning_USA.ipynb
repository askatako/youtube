{
 "cells": [
  {
   "cell_type": "code",
   "execution_count": 3,
   "metadata": {},
   "outputs": [],
   "source": [
    "import pandas as pd\n",
    "from nltk.tokenize import word_tokenize\n",
    "import numpy as np"
   ]
  },
  {
   "cell_type": "code",
   "execution_count": 4,
   "metadata": {},
   "outputs": [],
   "source": [
    "#Load in the datasets\n",
    "categories = pd.read_json(\"US_category_id.json\")\n",
    "#print(variables.head())\n",
    "usdata = pd.read_csv(\"USvideos.csv\")\n",
    "#print(usdata.head())"
   ]
  },
  {
   "cell_type": "code",
   "execution_count": 5,
   "metadata": {},
   "outputs": [
    {
     "name": "stdout",
     "output_type": "stream",
     "text": [
      "<class 'pandas.core.frame.DataFrame'>\n",
      "RangeIndex: 40949 entries, 0 to 40948\n",
      "Data columns (total 16 columns):\n",
      "video_id                  40949 non-null object\n",
      "trending_date             40949 non-null object\n",
      "title                     40949 non-null object\n",
      "channel_title             40949 non-null object\n",
      "category_id               40949 non-null int64\n",
      "publish_time              40949 non-null object\n",
      "tags                      40949 non-null object\n",
      "views                     40949 non-null int64\n",
      "likes                     40949 non-null int64\n",
      "dislikes                  40949 non-null int64\n",
      "comment_count             40949 non-null int64\n",
      "thumbnail_link            40949 non-null object\n",
      "comments_disabled         40949 non-null bool\n",
      "ratings_disabled          40949 non-null bool\n",
      "video_error_or_removed    40949 non-null bool\n",
      "description               40379 non-null object\n",
      "dtypes: bool(3), int64(5), object(8)\n",
      "memory usage: 4.2+ MB\n"
     ]
    }
   ],
   "source": [
    "usdata.info()"
   ]
  },
  {
   "cell_type": "code",
   "execution_count": 6,
   "metadata": {},
   "outputs": [
    {
     "name": "stdout",
     "output_type": "stream",
     "text": [
      "(40949, 16)\n",
      "video_id                   6282\n",
      "trending_date               205\n",
      "title                      6455\n",
      "channel_title              2207\n",
      "category_id                  16\n",
      "publish_time               6269\n",
      "tags                       6055\n",
      "views                     40478\n",
      "likes                     29850\n",
      "dislikes                   8516\n",
      "comment_count             13773\n",
      "thumbnail_link             6352\n",
      "comments_disabled             2\n",
      "ratings_disabled              2\n",
      "video_error_or_removed        2\n",
      "description                6901\n",
      "dtype: int64\n"
     ]
    }
   ],
   "source": [
    "print(usdata.shape)\n",
    "print(usdata.nunique())"
   ]
  },
  {
   "cell_type": "code",
   "execution_count": 7,
   "metadata": {},
   "outputs": [
    {
     "data": {
      "text/plain": [
       "video_id                    0\n",
       "trending_date               0\n",
       "title                       0\n",
       "channel_title               0\n",
       "category_id                 0\n",
       "publish_time                0\n",
       "tags                        0\n",
       "views                       0\n",
       "likes                       0\n",
       "dislikes                    0\n",
       "comment_count               0\n",
       "thumbnail_link              0\n",
       "comments_disabled           0\n",
       "ratings_disabled            0\n",
       "video_error_or_removed      0\n",
       "description               570\n",
       "dtype: int64"
      ]
     },
     "execution_count": 7,
     "metadata": {},
     "output_type": "execute_result"
    }
   ],
   "source": [
    "usdata.isna().sum()"
   ]
  },
  {
   "cell_type": "markdown",
   "metadata": {},
   "source": [
    "### Data cleaning"
   ]
  },
  {
   "cell_type": "code",
   "execution_count": 8,
   "metadata": {},
   "outputs": [],
   "source": [
    "#Convert predictors to their correct type\n",
    "\n",
    "#Time predictors\n",
    "def convertTrendingDate(df,var,dateformat='%y.%d.%m'): \n",
    "    return pd.to_datetime(df[var],format=dateformat)\n",
    "\n",
    "def convertPublishTime(df,var):\n",
    "    \"\"\"Splits time into date column and time column\"\"\"\n",
    "    pub_date = pd.to_datetime(df[var]).dt.date\n",
    "    pub_time = pd.to_datetime(df[var]).dt.time\n",
    "    return pub_date, pub_time\n",
    "\n",
    "def convertCategoryField(df, var, predtype=\"category\"):\n",
    "    \"\"\"Converts the type of the field to specified\"\"\"\n",
    "    return  df[var].astype(predtype)\n",
    "\n",
    "def removePattern(df, var, regpattern, replacement, regex=True):\n",
    "    \"\"\"Removes the regex found in pattern from text and returns series\"\"\"\n",
    "    return df[var].replace(regpattern, replacement, regex=regex)\n",
    "\n",
    "def removePatternSeries(series, regpattern, replacement, regex=True):\n",
    "    \"\"\"Removes the regex found in pattern from text and returns series\"\"\"\n",
    "    return series.replace(regpattern, replacement, regex=regex)\n",
    "\n",
    "\n",
    "def getTags(df, var, regpattern, replacement, sep=\"|\"):\n",
    "    \"\"\"converts tags into a list\"\"\"\n",
    "    return removePattern(df, var, regpattern, replacement).str.split(sep)\n",
    "\n",
    "def wordTokenize(df, var, method=word_tokenize):\n",
    "    \"\"\"Tokenizes sentences and converts to lowercase\"\"\"\n",
    "    return df[var].str.lower().apply(method)\n",
    "\n",
    "# def isCapitalized(df, var, regpattern):\n",
    "    \n",
    "#     if usdata[\"title\"].str.match('[A-Z]{2,}'):\n",
    "#         df[isCapital] = 1\n",
    "#     else:\n",
    "#         df[isCapital] = 0\n",
    "#     return df\n",
    "\n",
    "def dropCol(df, var,inplace=True,axis=1):\n",
    "    df.drop(var, inplace=inplace, axis=axis)\n",
    "    return df\n",
    "\n",
    "def selectUniqueRows(df,var):\n",
    "    df = df.drop_duplicates(subset=var)\n",
    "    return df\n",
    "\n"
   ]
  },
  {
   "cell_type": "code",
   "execution_count": 9,
   "metadata": {},
   "outputs": [],
   "source": [
    "#select unique rows\n",
    "rows = [\"video_id\",\"title\",\"description\"]\n",
    "usdata = selectUniqueRows(usdata, rows)\n",
    "\n",
    "#Fix time\n",
    "usdata[\"trending_date\"]= convertTrendingDate(usdata,\"trending_date\")\n",
    "usdata[\"publish_date\"], usdata[\"publish_time\"] = convertPublishTime(usdata, \"publish_time\")\n",
    "usdata[\"publish_date\"] = convertCategoryField(usdata,\"publish_date\",predtype=\"datetime64[ns]\")\n",
    "\n",
    "#convert category_id to categorical data\n",
    "usdata[\"category_id\"] = convertCategoryField(usdata, \"category_id\")\n",
    "\n",
    "#process tags\n",
    "usdata[\"tags\"] = getTags(usdata, \"tags\",'\\\"', '')\n",
    "\n",
    "#process title\n",
    "usdata[\"title\"]=removePatternSeries(usdata[\"title\"], '[^\\w+\\s]', '')\n",
    "usdata[\"token_title\"] = wordTokenize(usdata, \"title\")\n"
   ]
  },
  {
   "cell_type": "code",
   "execution_count": 10,
   "metadata": {},
   "outputs": [],
   "source": [
    "def formatDescription(df, var):\n",
    "    \"\"\"This function is hardcoded to the dataset. \n",
    "    It removes the url and anything following the @ symbol.\n",
    "    \"\"\"\n",
    "    #remove anything following @ symbol and urls\n",
    "    ser = removePattern(df, var, '(\\@.*)|(http\\S+)|(\\\\n)', \"\", regex=True)\n",
    "    \n",
    "    #replace \\n with blank spaces\n",
    "    ser = removePatternSeries(ser, '[\\\\n]+', \" \", regex=True)\n",
    "\n",
    "    return ser\n"
   ]
  },
  {
   "cell_type": "code",
   "execution_count": 11,
   "metadata": {},
   "outputs": [],
   "source": [
    "#process description \n",
    "\n",
    "#fill in NAs\n",
    "usdata[\"description\"] = usdata[\"description\"].fillna('')\n",
    "usdata[\"description\"] = formatDescription(usdata, \"description\")\n",
    "usdata[\"token_description\"] = wordTokenize(usdata, \"description\")"
   ]
  },
  {
   "cell_type": "raw",
   "metadata": {},
   "source": [
    "#Regex patterns\n",
    "for parenthesis and square brackets and taking out the words too\n",
    "\\(.*\\) | \\[.*\\]\n",
    "\n",
    "for quotation\n",
    "\\\"\n",
    "\n",
    "for capitalization\n",
    "[A-Z]{2,}\n",
    "\n",
    "for url\n",
    "http\\S+\n",
    "\n",
    "for \\n\n",
    "\\\\n\n"
   ]
  },
  {
   "cell_type": "code",
   "execution_count": 12,
   "metadata": {},
   "outputs": [],
   "source": [
    "#drop video id, thumbnails,title, description\n",
    "cols = [\"video_id\",\"title\", \"thumbnail_link\",\"description\"]\n",
    "usdata = dropCol(usdata, cols)"
   ]
  },
  {
   "cell_type": "code",
   "execution_count": 13,
   "metadata": {},
   "outputs": [
    {
     "name": "stdout",
     "output_type": "stream",
     "text": [
      "<class 'pandas.core.frame.DataFrame'>\n",
      "Int64Index: 7139 entries, 0 to 40846\n",
      "Data columns (total 15 columns):\n",
      "trending_date             7139 non-null datetime64[ns]\n",
      "channel_title             7139 non-null object\n",
      "category_id               7139 non-null category\n",
      "publish_time              7139 non-null object\n",
      "tags                      7139 non-null object\n",
      "views                     7139 non-null int64\n",
      "likes                     7139 non-null int64\n",
      "dislikes                  7139 non-null int64\n",
      "comment_count             7139 non-null int64\n",
      "comments_disabled         7139 non-null bool\n",
      "ratings_disabled          7139 non-null bool\n",
      "video_error_or_removed    7139 non-null bool\n",
      "publish_date              7139 non-null datetime64[ns]\n",
      "token_title               7139 non-null object\n",
      "token_description         7139 non-null object\n",
      "dtypes: bool(3), category(1), datetime64[ns](2), int64(4), object(5)\n",
      "memory usage: 697.9+ KB\n"
     ]
    }
   ],
   "source": [
    "usdata.info()"
   ]
  },
  {
   "cell_type": "code",
   "execution_count": 14,
   "metadata": {},
   "outputs": [],
   "source": [
    "usdata.to_pickle(\"clean_us.pkl\")"
   ]
  },
  {
   "cell_type": "code",
   "execution_count": null,
   "metadata": {},
   "outputs": [],
   "source": []
  }
 ],
 "metadata": {
  "kernelspec": {
   "display_name": "Python 3",
   "language": "python",
   "name": "python3"
  },
  "language_info": {
   "codemirror_mode": {
    "name": "ipython",
    "version": 3
   },
   "file_extension": ".py",
   "mimetype": "text/x-python",
   "name": "python",
   "nbconvert_exporter": "python",
   "pygments_lexer": "ipython3",
   "version": "3.6.4"
  }
 },
 "nbformat": 4,
 "nbformat_minor": 2
}
